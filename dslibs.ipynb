{
  "metadata": {
    "kernelspec": {
      "name": "python",
      "display_name": "Python (Pyodide)",
      "language": "python"
    },
    "language_info": {
      "codemirror_mode": {
        "name": "python",
        "version": 3
      },
      "file_extension": ".py",
      "mimetype": "text/x-python",
      "name": "python",
      "nbconvert_exporter": "python",
      "pygments_lexer": "ipython3",
      "version": "3.8"
    }
  },
  "nbformat_minor": 4,
  "nbformat": 4,
  "cells": [
    {
      "cell_type": "markdown",
      "source": "## Data Science Libraries\n\n- **Python:**\n  - NumPy\n  - Pandas\n  - Matplotlib\n  - Seaborn\n  - SciPy\n  - Scikit-learn\n  - TensorFlow\n  - PyTorch\n\n- **R:**\n - dplyr\n - ggplot2\n - caret\n - tidyr\n - knitr\n - shiny\n\n- **Julia:**\n  - DataFrames\n  - Plots\n  - Flux\n  - StatsBase",
      "metadata": {}
    },
    {
      "cell_type": "code",
      "source": "",
      "metadata": {
        "trusted": true
      },
      "outputs": [],
      "execution_count": null
    }
  ]
}