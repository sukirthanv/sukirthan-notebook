{
  "metadata": {
    "kernelspec": {
      "name": "python",
      "display_name": "Python (Pyodide)",
      "language": "python"
    },
    "language_info": {
      "codemirror_mode": {
        "name": "python",
        "version": 3
      },
      "file_extension": ".py",
      "mimetype": "text/x-python",
      "name": "python",
      "nbconvert_exporter": "python",
      "pygments_lexer": "ipython3",
      "version": "3.8"
    }
  },
  "nbformat_minor": 4,
  "nbformat": 4,
  "cells": [
    {
      "cell_type": "markdown",
      "source": "## Data Science Tools\n\n| Language | Libraries               | Tools                 |\n|----------|-------------------------|-----------------------|\n| Python   | NumPy, Pandas, Matplotlib| Jupyter Notebooks, Spyder |\n| R        | dplyr, ggplot2, caret    | RStudio, Jupyter Notebooks |\n| Julia    | DataFrames, Plots, Flux  | VS Code, Jupyter Notebooks |\n| SQL      | SQLAlchemy, Pandas      | DBeaver, pgAdmin       |",
      "metadata": {}
    },
    {
      "cell_type": "markdown",
      "source": "",
      "metadata": {}
    }
  ]
}